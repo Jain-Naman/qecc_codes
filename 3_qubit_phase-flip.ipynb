{
 "cells": [
  {
   "cell_type": "markdown",
   "metadata": {},
   "source": [
    "# Implementation of $[[n, k, d]]$ codes"
   ]
  },
  {
   "cell_type": "code",
   "execution_count": 1,
   "metadata": {},
   "outputs": [],
   "source": [
    "import numpy as np\n",
    "import matplotlib.pyplot as plt\n",
    "from qiskit import QuantumCircuit, QuantumRegister, ClassicalRegister\n",
    "from qiskit import execute, Aer, transpile\n",
    "from qiskit_aer import AerSimulator\n",
    "from qiskit.visualization import plot_histogram\n",
    "from qiskit.quantum_info import DensityMatrix, Statevector, Kraus, SuperOp\n",
    "from qiskit.quantum_info import hellinger_fidelity, state_fidelity\n",
    "from qiskit_ibm_provider import IBMProvider, least_busy\n",
    "\n",
    "from qiskit.result import marginal_counts\n",
    "from qiskit.tools.monitor import job_monitor"
   ]
  },
  {
   "cell_type": "code",
   "execution_count": 2,
   "metadata": {},
   "outputs": [],
   "source": [
    "np.random.seed(42)"
   ]
  },
  {
   "cell_type": "markdown",
   "metadata": {},
   "source": [
    "#### $[[3, 1, 3]]$ phase-flip code \n",
    "\n",
    "Stabilizers - \n",
    "\n",
    "$I X X, X X I$"
   ]
  },
  {
   "cell_type": "code",
   "execution_count": 3,
   "metadata": {},
   "outputs": [],
   "source": [
    "qdata_register = QuantumRegister(3, name=\"data\")\n",
    "stabilizer_measure_reg = QuantumRegister(2, name=\"anc\")\n",
    "syndrome_measure_reg = ClassicalRegister(2, name=\"syn\")\n",
    "cdata_register = ClassicalRegister(3, name=\"readout\")\n",
    "\n",
    "state_register = qdata_register[0]\n",
    "encoding_register = qdata_register[1:]"
   ]
  },
  {
   "cell_type": "code",
   "execution_count": 4,
   "metadata": {},
   "outputs": [],
   "source": [
    "def initialize_qubits(circuit: QuantumCircuit, state_reg: QuantumRegister) -> QuantumCircuit:\n",
    "    ''' Initialize qubit in a particular state '''\n",
    "    circuit.x(state_reg)\n",
    "    circuit.h(state_reg)\n",
    "\n",
    "    circuit.barrier(state_reg)\n",
    "    return circuit\n",
    "\n",
    "def encoding(circuit: QuantumCircuit, state_reg: QuantumRegister, encoding_reg: QuantumRegister) -> QuantumCircuit:\n",
    "    ''' Encoding for $$[[3, 1, 3]]$$ phase-flip code'''\n",
    "    \n",
    "    for reg in encoding_reg:\n",
    "        circuit.cx(state_reg, reg)\n",
    "\n",
    "    circuit.h(state_reg)\n",
    "    circuit.h(encoding_reg)\n",
    "\n",
    "    circuit.barrier(state_reg, encoding_reg)\n",
    "    \n",
    "    return circuit\n",
    "\n",
    "def fake_noise(circuit: QuantumCircuit, qdata_reg: QuantumCircuit, distance: int, noise_type: str) -> QuantumCircuit:\n",
    "    ''' Applies noise_type (either 'X' or 'Z' or 'XZ') on random \n",
    "    qubits in qdata_reg based on the distance of the code'''\n",
    "    noisy_qubits = np.random.randint(len(qdata_reg), size=(distance - 1)//2)\n",
    "    for qubit in noisy_qubits:\n",
    "        if noise_type[0] == 'X':\n",
    "            circuit.x(qdata_reg[qubit])\n",
    "        if noise_type[-1] == 'Z':\n",
    "            circuit.z(qdata_reg[qubit])\n",
    "    return circuit\n",
    "\n",
    "def stabilizer_measurement(circuit: QuantumCircuit, qdata_reg: QuantumRegister, stab_meas: QuantumRegister, syndrome_reg: ClassicalRegister) -> QuantumCircuit:\n",
    "    ''' Measure the stabilizers using stab_meas and store the \n",
    "    error syndrome in syndrome_reg. Once the syndrome is saved, \n",
    "    reset the stab_meas qubits'''\n",
    "\n",
    "    circuit.h(qdata_reg)\n",
    "\n",
    "    circuit.cx(qdata_reg[0], stab_meas[0])\n",
    "    circuit.cx(qdata_reg[1], stab_meas[0])\n",
    "    circuit.cx(qdata_reg[1], stab_meas[1])\n",
    "    circuit.cx(qdata_reg[2], stab_meas[1])\n",
    "\n",
    "    circuit.barrier()\n",
    "\n",
    "    circuit.measure(stab_meas, syndrome_reg)\n",
    "\n",
    "    with circuit.if_test((syndrome_reg[0], 1)):\n",
    "        circuit.x(stab_meas[0])\n",
    "    with circuit.if_test((syndrome_reg[1], 1)):\n",
    "        circuit.x(stab_meas[1])\n",
    "    \n",
    "    circuit.barrier()\n",
    "\n",
    "    return circuit\n",
    "\n",
    "def recovery(circuit: QuantumCircuit, qdata_reg: QuantumRegister, syndrome_reg: ClassicalRegister) -> QuantumCircuit:\n",
    "    ''' Applies correction based on syndrome measurement'''\n",
    "\n",
    "    with circuit.if_test((syndrome_reg, 1)):\n",
    "        circuit.x(qdata_reg[0])\n",
    "    with circuit.if_test((syndrome_reg, 2)):\n",
    "        circuit.x(qdata_reg[2])\n",
    "    with circuit.if_test((syndrome_reg, 3)):\n",
    "        circuit.x(qdata_reg[1])\n",
    "    \n",
    "    circuit.barrier(qdata_reg)\n",
    "        \n",
    "    return circuit\n",
    "\n",
    "def decoding(circuit: QuantumCircuit, state_reg: QuantumRegister, encoding_reg: QuantumRegister) -> QuantumCircuit:\n",
    "    # circuit.h(state_reg)\n",
    "    # circuit.h(encoding_reg)\n",
    "\n",
    "    for reg in encoding_reg[::-1]:\n",
    "        circuit.cx(state_reg, reg)\n",
    "    \n",
    "    circuit.h(state_reg)\n",
    "\n",
    "    return circuit\n",
    "\n",
    "def final_readout(circuit: QuantumCircuit, qdata_reg: QuantumRegister, cdata_reg: ClassicalRegister) -> QuantumCircuit:\n",
    "    ''' Measure qdata_reg onto cdata_reg'''\n",
    "    circuit.measure(qdata_reg, cdata_reg)\n",
    "    return circuit"
   ]
  },
  {
   "cell_type": "code",
   "execution_count": 5,
   "metadata": {},
   "outputs": [],
   "source": [
    "def build_error_correction_sequence(apply_correction = False, apply_fake_noise = None, code_distance = 3) -> QuantumCircuit:\n",
    "    '''Build the error correction sequence'''\n",
    "    circuit = QuantumCircuit(qdata_register, stabilizer_measure_reg, cdata_register, syndrome_measure_reg)\n",
    "    circuit = initialize_qubits(circuit, qdata_register[0])\n",
    "\n",
    "    circuit = encoding(circuit, state_register, encoding_register)\n",
    "    \n",
    "    if apply_fake_noise is not None:\n",
    "        noise_type = apply_fake_noise\n",
    "        circuit = fake_noise(circuit, qdata_register, code_distance, noise_type)\n",
    "\n",
    "    circuit = stabilizer_measurement(circuit, qdata_register, stabilizer_measure_reg, syndrome_measure_reg)\n",
    "\n",
    "    if apply_correction:\n",
    "        circuit = recovery(circuit, qdata_register, syndrome_measure_reg)\n",
    "    else:\n",
    "        circuit.id(qdata_register)\n",
    "\n",
    "    circuit = decoding(circuit, state_register, encoding_register)\n",
    "\n",
    "    circuit = final_readout(circuit, qdata_register, cdata_register)\n",
    "\n",
    "    return circuit    "
   ]
  },
  {
   "cell_type": "code",
   "execution_count": 6,
   "metadata": {},
   "outputs": [
    {
     "name": "stderr",
     "output_type": "stream",
     "text": [
      "/home/naman/Desktop/EE514_QEC/QEC project/qec_project/lib/python3.10/site-packages/qiskit/visualization/circuit/matplotlib.py:266: FutureWarning: The default matplotlib drawer scheme will be changed to \"iqp\" in a following release. To silence this warning, specify the current default explicitly as style=\"clifford\", or the new default as style=\"iqp\".\n",
      "  self._style, def_font_ratio = load_style(self._style)\n"
     ]
    },
    {
     "data": {
      "image/png": "[encoded data removed]",
      "text/plain": [
       "<Figure size 1951.97x433.106 with 1 Axes>"
      ]
     },
     "execution_count": 6,
     "metadata": {},
     "output_type": "execute_result"
    }
   ],
   "source": [
    "circuit_with_correction = build_error_correction_sequence(apply_correction = True, apply_fake_noise=None)\n",
    "circuit_without_correction = build_error_correction_sequence(apply_correction = False, apply_fake_noise=None)\n",
    "\n",
    "circuit_with_correction.draw(\"mpl\", plot_barriers=True, scale = 0.7, fold=60)"
   ]
  },
  {
   "cell_type": "code",
   "execution_count": 7,
   "metadata": {},
   "outputs": [
    {
     "data": {
      "image/png": "[encoded data removed]",
      "text/plain": [
       "<Figure size 1600.81x433.106 with 1 Axes>"
      ]
     },
     "execution_count": 7,
     "metadata": {},
     "output_type": "execute_result"
    }
   ],
   "source": [
    "circuit_without_correction.draw(\"mpl\", plot_barriers=True, scale=0.7, fold=60)"
   ]
  },
  {
   "cell_type": "code",
   "execution_count": 8,
   "metadata": {},
   "outputs": [],
   "source": [
    "shots = 1024\n",
    "# provider = IBMProvider()\n",
    "# provider.backends()"
   ]
  },
  {
   "cell_type": "code",
   "execution_count": 9,
   "metadata": {},
   "outputs": [],
   "source": [
    "# backend = least_busy(provider.backends(simulator=False, operational=True))\n",
    "# provider.get_backend(\"ibmq_qasm_simulator\")\n",
    "# backend"
   ]
  },
  {
   "cell_type": "code",
   "execution_count": 10,
   "metadata": {},
   "outputs": [
    {
     "data": {
      "text/plain": [
       "AerSimulator('aer_simulator'\n",
       "             noise_model=<NoiseModel on ['sx', 'x', 'measure', 'reset', 'id', 'cx']>)"
      ]
     },
     "execution_count": 10,
     "metadata": {},
     "output_type": "execute_result"
    }
   ],
   "source": [
    "import qiskit_aer.noise as noise\n",
    "from qiskit.providers.fake_provider import FakeMontreal\n",
    "\n",
    "backend = FakeMontreal()\n",
    "noise_model = noise.NoiseModel.from_backend(backend)\n",
    "\n",
    "# Get coupling map from backend\n",
    "coupling_map = backend.configuration().coupling_map\n",
    "\n",
    "# Get basis gates from noise model\n",
    "basis_gates = noise_model.basis_gates\n",
    "\n",
    "# p_reset = 0.03\n",
    "# p_meas = 0.1\n",
    "# p_gate1 = 0.05\n",
    "\n",
    "# QuantumError objects\n",
    "# error_reset = noise.pauli_error([('X', p_reset), ('I', 1 - p_reset)])\n",
    "# error_meas = noise.pauli_error([('X',p_meas), ('I', 1 - p_meas)])\n",
    "# error_gate1 = noise.pauli_error([('X',p_gate1), ('I', 1 - p_gate1)])\n",
    "# error_gate2 = error_gate1.tensor(error_gate1)\n",
    "\n",
    "# Add errors to noise model\n",
    "# noise_bit_flip = noise.NoiseModel()\n",
    "# noise_bit_flip.add_all_qubit_quantum_error(error_reset, \"reset\")\n",
    "# noise_bit_flip.add_all_qubit_quantum_error(error_meas, \"measure\")\n",
    "# noise_bit_flip.add_all_qubit_quantum_error(error_gate1, [\"u1\", \"u2\", \"u3\"])\n",
    "# noise_bit_flip.add_all_qubit_quantum_error(error_gate1, [\"id\"])\n",
    "\n",
    "# noise_bit_flip.add_all_qubit_quantum_error(error_gate2, [\"cx\"])\n",
    "\n",
    "# Perform a noise simulation\n",
    "backend = AerSimulator(noise_model=noise_model,\n",
    "                       coupling_map=coupling_map,\n",
    "                       basis_gates=basis_gates)\n",
    "\n",
    "# backend = AerSimulator(noise_model=noise_bit_flip)\n",
    "\n",
    "# backend = AerSimulator()\n",
    "\n",
    "# print(noise_model)\n",
    "backend"
   ]
  },
  {
   "cell_type": "code",
   "execution_count": 11,
   "metadata": {},
   "outputs": [],
   "source": [
    "correction_transpiled_circuit = transpile(circuit_with_correction, backend)\n",
    "uncorrected_transpiled_circuit = transpile(circuit_without_correction, backend)\n",
    "# correction_transpiled_circuit.draw(output=\"mpl\", idle_wires=False, scale=0.5, fold=50)"
   ]
  },
  {
   "cell_type": "code",
   "execution_count": 12,
   "metadata": {},
   "outputs": [
    {
     "name": "stdout",
     "output_type": "stream",
     "text": [
      "Job Status: job has successfully run\n"
     ]
    }
   ],
   "source": [
    "job_with_correction = backend.run(correction_transpiled_circuit, shots=shots, dynamic=True)\n",
    "job_monitor(job_with_correction)"
   ]
  },
  {
   "cell_type": "code",
   "execution_count": 13,
   "metadata": {},
   "outputs": [],
   "source": [
    "result_with_correction = job_with_correction.result()"
   ]
  },
  {
   "cell_type": "code",
   "execution_count": 14,
   "metadata": {},
   "outputs": [
    {
     "name": "stdout",
     "output_type": "stream",
     "text": [
      "Job Status: job has successfully run\n"
     ]
    }
   ],
   "source": [
    "job_without_correction = backend.run(uncorrected_transpiled_circuit, shots=shots, dynamic = True)\n",
    "job_monitor(job_without_correction)"
   ]
  },
  {
   "cell_type": "code",
   "execution_count": 15,
   "metadata": {},
   "outputs": [],
   "source": [
    "result_without_correction = job_without_correction.result()"
   ]
  },
  {
   "cell_type": "code",
   "execution_count": 16,
   "metadata": {},
   "outputs": [],
   "source": [
    "initial_state = ['001']\n",
    "ideal_result = {'001': shots}"
   ]
  },
  {
   "cell_type": "code",
   "execution_count": 17,
   "metadata": {},
   "outputs": [],
   "source": [
    "data_indices = list(range(len(qdata_register)))\n",
    "syndrome_indices = list(range(data_indices[-1]+1, len(qdata_register) + len(syndrome_measure_reg) ))\n",
    "\n",
    "def decode_result(data_counts, syndrome_counts, initial_state):\n",
    "    shots = sum(data_counts.values())\n",
    "    success_trials = sum([data_counts.get(i, 0) for i in initial_state])\n",
    "    failed_trials = shots - success_trials\n",
    "    error_correction_events = shots - syndrome_counts.get('00', 0)\n",
    "    print(f\"Phase flip errors were detected/corrected on {error_correction_events}/{shots} trials\")\n",
    "    print(f\"A final parity error was detected on {failed_trials}/{shots} trials\")"
   ]
  },
  {
   "cell_type": "code",
   "execution_count": 18,
   "metadata": {},
   "outputs": [
    {
     "name": "stdout",
     "output_type": "stream",
     "text": [
      "******************** Without Quantum Error Correction ********************\n",
      "\n",
      "Completed phase code experiment data measurement counts {'010': 7, '000': 39, '001': 913, '111': 1, '011': 49, '101': 15}\n",
      "Completed phase code experiment syndrome measurement counts {'00': 1006, '01': 11, '10': 2, '11': 5}\n",
      "Phase flip errors were detected/corrected on 18/1024 trials\n",
      "A final parity error was detected on 111/1024 trials\n",
      "\n",
      "Fidelity: 0.8916015625\n"
     ]
    }
   ],
   "source": [
    "print(\"******************** Without Quantum Error Correction ********************\\n\")\n",
    "\n",
    "non_corrected_marginalized_data_counts = marginal_counts(result_without_correction, data_indices).get_counts(0)\n",
    "non_corrected_marginalized_syndrome_counts = marginal_counts(result_without_correction, syndrome_indices).get_counts(0)\n",
    "\n",
    "print(f'Completed phase code experiment data measurement counts {non_corrected_marginalized_data_counts}')\n",
    "print(f'Completed phase code experiment syndrome measurement counts {non_corrected_marginalized_syndrome_counts}')\n",
    "decode_result(non_corrected_marginalized_data_counts, non_corrected_marginalized_syndrome_counts, initial_state)\n",
    "\n",
    "print(\"\\nFidelity: {}\".format(hellinger_fidelity(ideal_result, non_corrected_marginalized_data_counts)))"
   ]
  },
  {
   "cell_type": "code",
   "execution_count": 19,
   "metadata": {},
   "outputs": [
    {
     "name": "stdout",
     "output_type": "stream",
     "text": [
      "******************** With Quantum Error Correction ********************\n",
      "\n",
      "Completed phase code experiment data measurement counts {'001': 906, '101': 13, '000': 40, '010': 3, '011': 54, '111': 8}\n",
      "Completed phase code experiment syndrome measurement counts {'11': 10, '00': 1002, '10': 4, '01': 8}\n",
      "Phase flip errors were detected/corrected on 22/1024 trials\n",
      "A final parity error was detected on 118/1024 trials\n",
      "\n",
      "Fidelity: 0.8847656249999999\n"
     ]
    }
   ],
   "source": [
    "print(\"******************** With Quantum Error Correction ********************\\n\")\n",
    "\n",
    "corrected_marginalized_data_counts = marginal_counts(result_with_correction, data_indices).get_counts(0)\n",
    "corrected_marginalized_syndrome_counts = marginal_counts(result_with_correction, syndrome_indices).get_counts(0)\n",
    "\n",
    "print(f'Completed phase code experiment data measurement counts {corrected_marginalized_data_counts}')\n",
    "print(f'Completed phase code experiment syndrome measurement counts {corrected_marginalized_syndrome_counts}')\n",
    "decode_result(corrected_marginalized_data_counts, corrected_marginalized_syndrome_counts, initial_state)\n",
    "\n",
    "print(\"\\nFidelity: {}\".format(hellinger_fidelity(ideal_result, corrected_marginalized_data_counts)))"
   ]
  },
  {
   "cell_type": "code",
   "execution_count": null,
   "metadata": {},
   "outputs": [],
   "source": []
  }
 ],
 "metadata": {
  "kernelspec": {
   "display_name": "qec_project",
   "language": "python",
   "name": "python3"
  },
  "language_info": {
   "codemirror_mode": {
    "name": "ipython",
    "version": 3
   },
   "file_extension": ".py",
   "mimetype": "text/x-python",
   "name": "python",
   "nbconvert_exporter": "python",
   "pygments_lexer": "ipython3",
   "version": "3.10.12"
  }
 },
 "nbformat": 4,
 "nbformat_minor": 2
}
