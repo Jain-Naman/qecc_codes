{
 "cells": [
  {
   "cell_type": "markdown",
   "metadata": {},
   "source": [
    "# Implementation of $[[n, k, d]]$ codes"
   ]
  },
  {
   "cell_type": "code",
   "execution_count": 1,
   "metadata": {},
   "outputs": [],
   "source": [
    "import numpy as np\n",
    "import matplotlib.pyplot as plt\n",
    "from qiskit import QuantumCircuit, QuantumRegister, ClassicalRegister\n",
    "from qiskit import execute, Aer, transpile\n",
    "from qiskit_aer import AerSimulator\n",
    "from qiskit.visualization import plot_histogram\n",
    "from qiskit.quantum_info import DensityMatrix, Statevector, Kraus, SuperOp\n",
    "from qiskit.quantum_info import hellinger_fidelity, state_fidelity\n",
    "from qiskit_ibm_provider import IBMProvider, least_busy\n",
    "\n",
    "from qiskit.result import marginal_counts\n",
    "from qiskit.tools.monitor import job_monitor"
   ]
  },
  {
   "cell_type": "code",
   "execution_count": 2,
   "metadata": {},
   "outputs": [],
   "source": [
    "np.random.seed(42)"
   ]
  },
  {
   "cell_type": "markdown",
   "metadata": {},
   "source": [
    "#### $[[3, 1, 3]]$ bit-flip code \n",
    "\n",
    "Stabilizers - \n",
    "\n",
    "$I Z Z, Z Z I$"
   ]
  },
  {
   "cell_type": "code",
   "execution_count": 3,
   "metadata": {},
   "outputs": [],
   "source": [
    "qdata_register = QuantumRegister(3, name=\"data\")\n",
    "stabilizer_measure_reg = QuantumRegister(2, name=\"anc\")\n",
    "syndrome_measure_reg = ClassicalRegister(2, name=\"syn\")\n",
    "cdata_register = ClassicalRegister(3, name=\"readout\")\n",
    "\n",
    "state_register = qdata_register[0]\n",
    "encoding_register = qdata_register[1:]"
   ]
  },
  {
   "cell_type": "code",
   "execution_count": 4,
   "metadata": {},
   "outputs": [],
   "source": [
    "def initialize_qubits(circuit: QuantumCircuit, state_reg: QuantumRegister) -> QuantumCircuit:\n",
    "    ''' Initialize qubit in a particular state '''\n",
    "    circuit.x(state_reg)\n",
    "\n",
    "    circuit.barrier(state_reg)\n",
    "    return circuit\n",
    "\n",
    "def encoding(circuit: QuantumCircuit, state_reg: QuantumRegister, encoding_reg: QuantumRegister) -> QuantumCircuit:\n",
    "    ''' Encoding for $$[[3, 1, 3]]$$ bit-flip code'''\n",
    "    \n",
    "    for reg in encoding_reg:\n",
    "        circuit.cx(state_reg, reg)\n",
    "\n",
    "    circuit.barrier(state_reg, encoding_reg)\n",
    "    return circuit\n",
    "\n",
    "def fake_noise(circuit: QuantumCircuit, qdata_reg: QuantumCircuit, distance: int, noise_type: str) -> QuantumCircuit:\n",
    "    ''' Applies noise_type (either 'X' or 'Z' or 'XZ') on random \n",
    "    qubits in qdata_reg based on the distance of the code'''\n",
    "    noisy_qubits = np.random.randint(len(qdata_reg), size=(distance - 1)//2)\n",
    "    for qubit in noisy_qubits:\n",
    "        if noise_type[0] == 'X':\n",
    "            circuit.x(qdata_reg[qubit])\n",
    "        if noise_type[-1] == 'Z':\n",
    "            circuit.z(qdata_reg[qubit])\n",
    "    return circuit\n",
    "\n",
    "def stabilizer_measurement(circuit: QuantumCircuit, qdata_reg: QuantumRegister, stab_meas: QuantumRegister, syndrome_reg: ClassicalRegister) -> QuantumCircuit:\n",
    "    ''' Measure the stabilizers using stab_meas and store the \n",
    "    error syndrome in syndrome_reg. Once the syndrome is saved, \n",
    "    reset the stab_meas qubits'''\n",
    "\n",
    "    circuit.cx(qdata_reg[0], stab_meas[0])\n",
    "    circuit.cx(qdata_reg[1], stab_meas[0])\n",
    "    circuit.cx(qdata_reg[1], stab_meas[1])\n",
    "    circuit.cx(qdata_reg[2], stab_meas[1])\n",
    "\n",
    "    circuit.barrier()\n",
    "\n",
    "    circuit.measure(stab_meas, syndrome_reg)\n",
    "\n",
    "    # with circuit.if_test((syndrome_reg[0], 1)):\n",
    "    #     circuit.x(stab_meas[0])\n",
    "    # with circuit.if_test((syndrome_reg[1], 1)):\n",
    "    #     circuit.x(stab_meas[1])\n",
    "    \n",
    "    # circuit.barrier()\n",
    "\n",
    "    return circuit\n",
    "\n",
    "def recovery(circuit: QuantumCircuit, qdata_reg: QuantumRegister, syndrome_reg: ClassicalRegister) -> QuantumCircuit:\n",
    "    ''' Applies correction based on syndrome measurement'''\n",
    "    \n",
    "    with circuit.if_test((syndrome_reg, 1)):\n",
    "        circuit.x(qdata_reg[0])\n",
    "    with circuit.if_test((syndrome_reg, 2)):\n",
    "        circuit.x(qdata_reg[2])\n",
    "    with circuit.if_test((syndrome_reg, 3)):\n",
    "        circuit.x(qdata_reg[1])\n",
    "    \n",
    "    circuit.barrier(qdata_reg)\n",
    "    \n",
    "    return circuit\n",
    "\n",
    "def decoding(circuit: QuantumCircuit, state_reg: QuantumRegister, encoding_reg: QuantumRegister) -> QuantumCircuit:\n",
    "    for reg in encoding_reg[::-1]:\n",
    "        circuit.cx(state_reg, reg)\n",
    "    \n",
    "    return circuit\n",
    "\n",
    "def final_readout(circuit: QuantumCircuit, qdata_reg: QuantumRegister, cdata_reg: ClassicalRegister) -> QuantumCircuit:\n",
    "    ''' Measure qdata_reg onto cdata_reg'''\n",
    "    circuit.measure(qdata_reg, cdata_reg)\n",
    "    return circuit"
   ]
  },
  {
   "cell_type": "code",
   "execution_count": 5,
   "metadata": {},
   "outputs": [
    {
     "name": "stderr",
     "output_type": "stream",
     "text": [
      "/home/naman/Desktop/EE514_QEC/QEC project/qec_project/lib/python3.10/site-packages/qiskit/visualization/circuit/matplotlib.py:266: FutureWarning: The default matplotlib drawer scheme will be changed to \"iqp\" in a following release. To silence this warning, specify the current default explicitly as style=\"clifford\", or the new default as style=\"iqp\".\n",
      "  self._style, def_font_ratio = load_style(self._style)\n"
     ]
    },
    {
     "data": {
      "image/png": "[encoded data removed]",
      "text/plain": [
       "<Figure size 313.197x433.106 with 1 Axes>"
      ]
     },
     "execution_count": 5,
     "metadata": {},
     "output_type": "execute_result"
    }
   ],
   "source": [
    "circuit = QuantumCircuit(qdata_register, stabilizer_measure_reg, cdata_register, syndrome_measure_reg)\n",
    "circuit =  encoding(circuit, state_register, encoding_register)\n",
    "# circuit = stabilizer_measurement(circuit, qdata_register, stabilizer_measure_reg, syndrome_measure_reg)\n",
    "circuit.draw(\"mpl\", scale=0.7, fold=60)"
   ]
  },
  {
   "cell_type": "code",
   "execution_count": 6,
   "metadata": {},
   "outputs": [],
   "source": [
    "def build_error_correction_sequence(apply_correction = False, apply_fake_noise = None, code_distance = 3) -> QuantumCircuit:\n",
    "    '''Build the error correction sequence'''\n",
    "    circuit = QuantumCircuit(qdata_register, stabilizer_measure_reg, cdata_register, syndrome_measure_reg)\n",
    "    circuit = initialize_qubits(circuit, qdata_register[0])\n",
    "\n",
    "    circuit = encoding(circuit, state_register, encoding_register)\n",
    "    \n",
    "    if apply_fake_noise is not None:\n",
    "        noise_type = apply_fake_noise\n",
    "        circuit = fake_noise(circuit, qdata_register, code_distance, noise_type)\n",
    "\n",
    "    circuit = stabilizer_measurement(circuit, qdata_register, stabilizer_measure_reg, syndrome_measure_reg)\n",
    "\n",
    "    if apply_correction:\n",
    "        circuit = recovery(circuit, qdata_register, syndrome_measure_reg)\n",
    "\n",
    "    circuit = decoding(circuit, state_register, encoding_register)\n",
    "\n",
    "    circuit = final_readout(circuit, qdata_register, cdata_register)\n",
    "\n",
    "    return circuit    "
   ]
  },
  {
   "cell_type": "code",
   "execution_count": 7,
   "metadata": {},
   "outputs": [
    {
     "data": {
      "image/png": "[encoded data removed]",
      "text/plain": [
       "<Figure size 1542.28x433.106 with 1 Axes>"
      ]
     },
     "execution_count": 7,
     "metadata": {},
     "output_type": "execute_result"
    }
   ],
   "source": [
    "circuit_with_correction = build_error_correction_sequence(apply_correction = True, apply_fake_noise=\"X\")\n",
    "circuit_without_correction = build_error_correction_sequence(apply_correction = False, apply_fake_noise=\"X\")\n",
    "\n",
    "circuit_with_correction.draw(\"mpl\", plot_barriers=True, scale = 0.7, fold=60)"
   ]
  },
  {
   "cell_type": "code",
   "execution_count": 8,
   "metadata": {},
   "outputs": [
    {
     "data": {
      "image/png": "[encoded data removed]",
      "text/plain": [
       "<Figure size 1074.06x433.106 with 1 Axes>"
      ]
     },
     "execution_count": 8,
     "metadata": {},
     "output_type": "execute_result"
    }
   ],
   "source": [
    "circuit_without_correction.draw(\"mpl\", plot_barriers=True, scale=0.7, fold=60)"
   ]
  },
  {
   "cell_type": "code",
   "execution_count": 9,
   "metadata": {},
   "outputs": [],
   "source": [
    "shots = 1024\n",
    "# provider = IBMProvider()\n",
    "# provider.backends()"
   ]
  },
  {
   "cell_type": "code",
   "execution_count": 10,
   "metadata": {},
   "outputs": [],
   "source": [
    "# backend = least_busy(provider.backends(simulator=False, operational=True))\n",
    "# backend = provider.get_backend(\"ibm_kyoto\")\n",
    "# backend"
   ]
  },
  {
   "cell_type": "code",
   "execution_count": 11,
   "metadata": {},
   "outputs": [
    {
     "name": "stdout",
     "output_type": "stream",
     "text": [
      "NoiseModel:\n",
      "  Basis gates: ['cx', 'id', 'reset', 'rz', 'sx', 'x']\n",
      "  Instructions with noise: ['x', 'reset', 'id', 'sx', 'cx', 'measure']\n",
      "  Qubits with noise: [0, 1, 2, 3, 4, 5, 6, 7, 8, 9, 10, 11, 12, 13, 14, 15, 16, 17, 18, 19, 20, 21, 22, 23, 24, 25, 26]\n",
      "  Specific qubit errors: [('id', (0,)), ('id', (1,)), ('id', (2,)), ('id', (3,)), ('id', (4,)), ('id', (5,)), ('id', (6,)), ('id', (7,)), ('id', (8,)), ('id', (9,)), ('id', (10,)), ('id', (11,)), ('id', (12,)), ('id', (13,)), ('id', (14,)), ('id', (15,)), ('id', (16,)), ('id', (17,)), ('id', (18,)), ('id', (19,)), ('id', (20,)), ('id', (21,)), ('id', (22,)), ('id', (23,)), ('id', (24,)), ('id', (25,)), ('id', (26,)), ('sx', (0,)), ('sx', (1,)), ('sx', (2,)), ('sx', (3,)), ('sx', (4,)), ('sx', (5,)), ('sx', (6,)), ('sx', (7,)), ('sx', (8,)), ('sx', (9,)), ('sx', (10,)), ('sx', (11,)), ('sx', (12,)), ('sx', (13,)), ('sx', (14,)), ('sx', (15,)), ('sx', (16,)), ('sx', (17,)), ('sx', (18,)), ('sx', (19,)), ('sx', (20,)), ('sx', (21,)), ('sx', (22,)), ('sx', (23,)), ('sx', (24,)), ('sx', (25,)), ('sx', (26,)), ('x', (0,)), ('x', (1,)), ('x', (2,)), ('x', (3,)), ('x', (4,)), ('x', (5,)), ('x', (6,)), ('x', (7,)), ('x', (8,)), ('x', (9,)), ('x', (10,)), ('x', (11,)), ('x', (12,)), ('x', (13,)), ('x', (14,)), ('x', (15,)), ('x', (16,)), ('x', (17,)), ('x', (18,)), ('x', (19,)), ('x', (20,)), ('x', (21,)), ('x', (22,)), ('x', (23,)), ('x', (24,)), ('x', (25,)), ('x', (26,)), ('cx', (22, 19)), ('cx', (19, 22)), ('cx', (21, 18)), ('cx', (18, 21)), ('cx', (16, 19)), ('cx', (19, 16)), ('cx', (15, 18)), ('cx', (18, 15)), ('cx', (16, 14)), ('cx', (14, 16)), ('cx', (11, 14)), ('cx', (14, 11)), ('cx', (23, 21)), ('cx', (21, 23)), ('cx', (7, 10)), ('cx', (10, 7)), ('cx', (7, 6)), ('cx', (6, 7)), ('cx', (5, 8)), ('cx', (8, 5)), ('cx', (7, 4)), ('cx', (4, 7)), ('cx', (17, 18)), ('cx', (18, 17)), ('cx', (20, 19)), ('cx', (19, 20)), ('cx', (5, 3)), ('cx', (3, 5)), ('cx', (12, 13)), ('cx', (13, 12)), ('cx', (25, 26)), ('cx', (26, 25)), ('cx', (3, 2)), ('cx', (2, 3)), ('cx', (12, 10)), ('cx', (10, 12)), ('cx', (23, 24)), ('cx', (24, 23)), ('cx', (1, 4)), ('cx', (4, 1)), ('cx', (11, 8)), ('cx', (8, 11)), ('cx', (25, 22)), ('cx', (22, 25)), ('cx', (2, 1)), ('cx', (1, 2)), ('cx', (13, 14)), ('cx', (14, 13)), ('cx', (0, 1)), ('cx', (1, 0)), ('cx', (9, 8)), ('cx', (8, 9)), ('cx', (15, 12)), ('cx', (12, 15)), ('cx', (24, 25)), ('cx', (25, 24)), ('reset', (0,)), ('reset', (1,)), ('reset', (2,)), ('reset', (3,)), ('reset', (4,)), ('reset', (5,)), ('reset', (6,)), ('reset', (7,)), ('reset', (8,)), ('reset', (9,)), ('reset', (10,)), ('reset', (11,)), ('reset', (12,)), ('reset', (13,)), ('reset', (14,)), ('reset', (15,)), ('reset', (16,)), ('reset', (17,)), ('reset', (18,)), ('reset', (19,)), ('reset', (20,)), ('reset', (21,)), ('reset', (22,)), ('reset', (23,)), ('reset', (24,)), ('reset', (25,)), ('reset', (26,)), ('measure', (0,)), ('measure', (1,)), ('measure', (2,)), ('measure', (3,)), ('measure', (4,)), ('measure', (5,)), ('measure', (6,)), ('measure', (7,)), ('measure', (8,)), ('measure', (9,)), ('measure', (10,)), ('measure', (11,)), ('measure', (12,)), ('measure', (13,)), ('measure', (14,)), ('measure', (15,)), ('measure', (16,)), ('measure', (17,)), ('measure', (18,)), ('measure', (19,)), ('measure', (20,)), ('measure', (21,)), ('measure', (22,)), ('measure', (23,)), ('measure', (24,)), ('measure', (25,)), ('measure', (26,))]\n"
     ]
    },
    {
     "data": {
      "text/plain": [
       "AerSimulator('aer_simulator'\n",
       "             noise_model=<NoiseModel on ['x', 'reset', 'id', 'sx', 'cx', 'measure']>)"
      ]
     },
     "execution_count": 11,
     "metadata": {},
     "output_type": "execute_result"
    }
   ],
   "source": [
    "import qiskit_aer.noise as noise\n",
    "from qiskit.providers.fake_provider import FakeMontreal\n",
    "\n",
    "backend = FakeMontreal()\n",
    "noise_model = noise.NoiseModel.from_backend(backend)\n",
    "\n",
    "# Get coupling map from backend\n",
    "coupling_map = backend.configuration().coupling_map\n",
    "\n",
    "# Get basis gates from noise model\n",
    "basis_gates = noise_model.basis_gates\n",
    "\n",
    "# p_reset = 0.03\n",
    "# p_meas = 0.1\n",
    "# p_gate1 = 0.05\n",
    "\n",
    "# QuantumError objects\n",
    "# error_reset = noise.pauli_error([('X', p_reset), ('I', 1 - p_reset)])\n",
    "# error_meas = noise.pauli_error([('X',p_meas), ('I', 1 - p_meas)])\n",
    "# error_gate1 = noise.pauli_error([('X',p_gate1), ('I', 1 - p_gate1)])\n",
    "# error_gate2 = error_gate1.tensor(error_gate1)\n",
    "\n",
    "# Add errors to noise model\n",
    "# noise_bit_flip = noise.NoiseModel()\n",
    "# noise_bit_flip.add_all_qubit_quantum_error(error_reset, \"reset\")\n",
    "# noise_bit_flip.add_all_qubit_quantum_error(error_meas, \"measure\")\n",
    "# noise_bit_flip.add_all_qubit_quantum_error(error_gate1, [\"u1\", \"u2\", \"u3\"])\n",
    "# noise_bit_flip.add_all_qubit_quantum_error(error_gate1, [\"id\"])\n",
    "\n",
    "# noise_bit_flip.add_all_qubit_quantum_error(error_gate2, [\"cx\"])\n",
    "\n",
    "# Perform a noise simulation\n",
    "backend = AerSimulator(noise_model=noise_model,\n",
    "                       coupling_map=coupling_map,\n",
    "                       basis_gates=basis_gates)\n",
    "\n",
    "# backend = AerSimulator(noise_model=noise_bit_flip)\n",
    "# backend = AerSimulator()\n",
    "\n",
    "print(noise_model)\n",
    "backend"
   ]
  },
  {
   "cell_type": "code",
   "execution_count": 12,
   "metadata": {},
   "outputs": [],
   "source": [
    "correction_transpiled_circuit = transpile(circuit_with_correction, backend)\n",
    "uncorrected_transpiled_circuit = transpile(circuit_without_correction, backend)\n",
    "# correction_transpiled_circuit.draw(output=\"mpl\", idle_wires=False, scale=0.5, fold=50)"
   ]
  },
  {
   "cell_type": "code",
   "execution_count": 13,
   "metadata": {},
   "outputs": [
    {
     "name": "stdout",
     "output_type": "stream",
     "text": [
      "Job Status: job has successfully run\n"
     ]
    }
   ],
   "source": [
    "job_with_correction = backend.run(correction_transpiled_circuit, shots=shots, dynamic=True)\n",
    "job_monitor(job_with_correction)"
   ]
  },
  {
   "cell_type": "code",
   "execution_count": 14,
   "metadata": {},
   "outputs": [],
   "source": [
    "# import json\n",
    "# from qiskit.result import Result\n",
    "\n",
    "# f = open('./3_1_3_bit_flip/cnx8d2wsdyyg0080kegg-result.txt')\n",
    "# correction_data = json.load(f)\n",
    "\n",
    "# result_with_correction = Result.from_dict(correction_data)"
   ]
  },
  {
   "cell_type": "code",
   "execution_count": 15,
   "metadata": {},
   "outputs": [],
   "source": [
    "# result_with_correction.get_counts()"
   ]
  },
  {
   "cell_type": "code",
   "execution_count": 16,
   "metadata": {},
   "outputs": [],
   "source": [
    "result_with_correction = job_with_correction.result()"
   ]
  },
  {
   "cell_type": "code",
   "execution_count": 17,
   "metadata": {},
   "outputs": [
    {
     "name": "stdout",
     "output_type": "stream",
     "text": [
      "Job Status: job has successfully run\n"
     ]
    }
   ],
   "source": [
    "job_without_correction = backend.run(uncorrected_transpiled_circuit, shots=shots, dynamic = True)\n",
    "job_monitor(job_without_correction)"
   ]
  },
  {
   "cell_type": "code",
   "execution_count": 18,
   "metadata": {},
   "outputs": [],
   "source": [
    "result_without_correction = job_without_correction.result()"
   ]
  },
  {
   "cell_type": "code",
   "execution_count": 19,
   "metadata": {},
   "outputs": [],
   "source": [
    "initial_state = ['001']\n",
    "ideal_result = {'001': shots}"
   ]
  },
  {
   "cell_type": "code",
   "execution_count": 20,
   "metadata": {},
   "outputs": [],
   "source": [
    "data_indices = list(range(len(qdata_register)))\n",
    "syndrome_indices = list(range(data_indices[-1]+1, len(qdata_register) + len(syndrome_measure_reg) ))\n",
    "\n",
    "def decode_result(data_counts, syndrome_counts, initial_state):\n",
    "    shots = sum(data_counts.values())\n",
    "    success_trials = sum([data_counts.get(i, 0) for i in initial_state])\n",
    "    failed_trials = shots - success_trials\n",
    "    error_correction_events = shots - syndrome_counts.get('00', 0)\n",
    "    print(f\"Bit flip errors were detected/corrected on {error_correction_events}/{shots} trials\")\n",
    "    print(f\"A final parity error was detected on {failed_trials}/{shots} trials\")"
   ]
  },
  {
   "cell_type": "code",
   "execution_count": 21,
   "metadata": {},
   "outputs": [
    {
     "name": "stdout",
     "output_type": "stream",
     "text": [
      "******************** Without Quantum Error Correction ********************\n",
      "\n",
      "Completed bit code experiment data measurement counts {'100': 87, '101': 2, '110': 915, '111': 3, '010': 16, '000': 1}\n",
      "Completed bit code experiment syndrome measurement counts {'00': 7, '10': 4, '11': 10, '01': 1003}\n",
      "Bit flip errors were detected/corrected on 1017/1024 trials\n",
      "A final parity error was detected on 1024/1024 trials\n",
      "\n",
      "Fidelity: 0.0\n"
     ]
    }
   ],
   "source": [
    "print(\"******************** Without Quantum Error Correction ********************\\n\")\n",
    "\n",
    "non_corrected_marginalized_data_counts = marginal_counts(result_without_correction, data_indices).get_counts(0)\n",
    "non_corrected_marginalized_syndrome_counts = marginal_counts(result_without_correction, syndrome_indices).get_counts(0)\n",
    "\n",
    "print(f'Completed bit code experiment data measurement counts {non_corrected_marginalized_data_counts}')\n",
    "print(f'Completed bit code experiment syndrome measurement counts {non_corrected_marginalized_syndrome_counts}')\n",
    "decode_result(non_corrected_marginalized_data_counts, non_corrected_marginalized_syndrome_counts, initial_state)\n",
    "\n",
    "print(\"\\nFidelity: {}\".format(hellinger_fidelity(ideal_result, non_corrected_marginalized_data_counts)))"
   ]
  },
  {
   "cell_type": "code",
   "execution_count": 22,
   "metadata": {},
   "outputs": [
    {
     "name": "stdout",
     "output_type": "stream",
     "text": [
      "******************** With Quantum Error Correction ********************\n",
      "\n",
      "Completed bit code experiment data measurement counts {'011': 53, '010': 5, '111': 13, '000': 21, '001': 896, '101': 36}\n",
      "Completed bit code experiment syndrome measurement counts {'10': 978, '01': 10, '11': 14, '00': 22}\n",
      "Bit flip errors were detected/corrected on 1002/1024 trials\n",
      "A final parity error was detected on 128/1024 trials\n",
      "\n",
      "Fidelity: 0.875\n"
     ]
    }
   ],
   "source": [
    "print(\"******************** With Quantum Error Correction ********************\\n\")\n",
    "\n",
    "corrected_marginalized_data_counts = marginal_counts(result_with_correction, data_indices).get_counts(0)\n",
    "corrected_marginalized_syndrome_counts = marginal_counts(result_with_correction, syndrome_indices).get_counts(0)\n",
    "\n",
    "print(f'Completed bit code experiment data measurement counts {corrected_marginalized_data_counts}')\n",
    "print(f'Completed bit code experiment syndrome measurement counts {corrected_marginalized_syndrome_counts}')\n",
    "decode_result(corrected_marginalized_data_counts, corrected_marginalized_syndrome_counts, initial_state)\n",
    "\n",
    "print(\"\\nFidelity: {}\".format(hellinger_fidelity(ideal_result, corrected_marginalized_data_counts)))"
   ]
  },
  {
   "cell_type": "code",
   "execution_count": null,
   "metadata": {},
   "outputs": [],
   "source": []
  }
 ],
 "metadata": {
  "kernelspec": {
   "display_name": "qec_project",
   "language": "python",
   "name": "python3"
  },
  "language_info": {
   "codemirror_mode": {
    "name": "ipython",
    "version": 3
   },
   "file_extension": ".py",
   "mimetype": "text/x-python",
   "name": "python",
   "nbconvert_exporter": "python",
   "pygments_lexer": "ipython3",
   "version": "3.10.12"
  }
 },
 "nbformat": 4,
 "nbformat_minor": 2
}
